{
 "cells": [
  {
   "cell_type": "code",
   "execution_count": 18,
   "id": "358d8649",
   "metadata": {
    "ExecuteTime": {
     "end_time": "2023-04-11T00:10:02.157257Z",
     "start_time": "2023-04-11T00:10:02.139306Z"
    }
   },
   "outputs": [
    {
     "data": {
      "text/plain": [
       "'Scythe (2016)'"
      ]
     },
     "execution_count": 18,
     "metadata": {},
     "output_type": "execute_result"
    }
   ],
   "source": [
    "game_names.get(user_input.split('/')[0])[0][1]"
   ]
  },
  {
   "cell_type": "code",
   "execution_count": 19,
   "id": "042c348f",
   "metadata": {
    "ExecuteTime": {
     "end_time": "2023-04-11T00:17:27.937525Z",
     "start_time": "2023-04-11T00:17:27.927552Z"
    }
   },
   "outputs": [
    {
     "data": {
      "text/plain": [
       "[(0.2666666666666667, 'Lifeboat (2002)'),\n",
       " (0.2666666666666667, 'WildLife (2002)')]"
      ]
     },
     "execution_count": 19,
     "metadata": {},
     "output_type": "execute_result"
    }
   ],
   "source": [
    "game_names.get('life')"
   ]
  },
  {
   "cell_type": "code",
   "execution_count": null,
   "id": "2e0de6e1",
   "metadata": {},
   "outputs": [],
   "source": []
  },
  {
   "cell_type": "code",
   "execution_count": 21,
   "id": "ae907684",
   "metadata": {
    "ExecuteTime": {
     "end_time": "2023-04-11T00:18:31.558443Z",
     "start_time": "2023-04-11T00:18:31.551462Z"
    }
   },
   "outputs": [],
   "source": [
    "user_input='life'\n",
    "\n",
    "fuzzy_games = []\n",
    "for i in range(0, len(game_names.get(user_input))):\n",
    "    fuzzy_games.append(game_names.get(user_input)[i][1])\n",
    "    "
   ]
  },
  {
   "cell_type": "code",
   "execution_count": 22,
   "id": "ff4e3ef7",
   "metadata": {
    "ExecuteTime": {
     "end_time": "2023-04-11T00:18:33.985953Z",
     "start_time": "2023-04-11T00:18:33.968002Z"
    }
   },
   "outputs": [
    {
     "data": {
      "text/plain": [
       "['Lifeboat (2002)', 'WildLife (2002)']"
      ]
     },
     "execution_count": 22,
     "metadata": {},
     "output_type": "execute_result"
    }
   ],
   "source": [
    "fuzzy_games"
   ]
  },
  {
   "cell_type": "code",
   "execution_count": 25,
   "id": "f4d2643d",
   "metadata": {
    "ExecuteTime": {
     "end_time": "2023-04-11T00:31:16.421105Z",
     "start_time": "2023-04-11T00:31:16.400161Z"
    }
   },
   "outputs": [
    {
     "data": {
      "text/plain": [
       "['Lifeboat (2002)', 'WildLife (2002)']"
      ]
     },
     "execution_count": 25,
     "metadata": {},
     "output_type": "execute_result"
    }
   ],
   "source": [
    "user_input='life'\n",
    "[game_names.get(user_input)[i][1] for i in range(0, len(game_names.get(user_input)))]"
   ]
  },
  {
   "cell_type": "code",
   "execution_count": 54,
   "id": "f679cc22",
   "metadata": {
    "ExecuteTime": {
     "end_time": "2023-04-11T00:59:24.236984Z",
     "start_time": "2023-04-11T00:59:24.229006Z"
    }
   },
   "outputs": [],
   "source": [
    "list_1 = [1, 2, 3, 4, 5]\n",
    "list_2 = ['a','b','c','d','e','f']\n",
    "list_1 = list_1 + list_2"
   ]
  },
  {
   "cell_type": "code",
   "execution_count": 56,
   "id": "7ac4e544",
   "metadata": {
    "ExecuteTime": {
     "end_time": "2023-04-11T01:15:32.892936Z",
     "start_time": "2023-04-11T01:15:32.881964Z"
    }
   },
   "outputs": [],
   "source": [
    "all_games=list(product.columns).sort()"
   ]
  },
  {
   "cell_type": "code",
   "execution_count": 68,
   "id": "b148c7df",
   "metadata": {
    "ExecuteTime": {
     "end_time": "2023-04-11T01:16:49.501134Z",
     "start_time": "2023-04-11T01:16:49.489165Z"
    }
   },
   "outputs": [],
   "source": []
  },
  {
   "cell_type": "code",
   "execution_count": 69,
   "id": "1252b70f",
   "metadata": {
    "ExecuteTime": {
     "end_time": "2023-04-11T01:16:58.297616Z",
     "start_time": "2023-04-11T01:16:58.281661Z"
    }
   },
   "outputs": [
    {
     "ename": "AttributeError",
     "evalue": "'list' object has no attribute 'contains'",
     "output_type": "error",
     "traceback": [
      "\u001b[1;31m---------------------------------------------------------------------------\u001b[0m",
      "\u001b[1;31mAttributeError\u001b[0m                            Traceback (most recent call last)",
      "\u001b[1;32m<ipython-input-69-2cbf2e6b334d>\u001b[0m in \u001b[0;36m<module>\u001b[1;34m\u001b[0m\n\u001b[1;32m----> 1\u001b[1;33m \u001b[0mall_games\u001b[0m\u001b[1;33m.\u001b[0m\u001b[0mcontains\u001b[0m\u001b[1;33m(\u001b[0m\u001b[1;34m'life'\u001b[0m\u001b[1;33m)\u001b[0m\u001b[1;33m\u001b[0m\u001b[1;33m\u001b[0m\u001b[0m\n\u001b[0m",
      "\u001b[1;31mAttributeError\u001b[0m: 'list' object has no attribute 'contains'"
     ]
    }
   ],
   "source": [
    "all_games.contains('life')"
   ]
  },
  {
   "cell_type": "code",
   "execution_count": 94,
   "id": "5d9d1761",
   "metadata": {
    "ExecuteTime": {
     "end_time": "2023-04-11T01:29:42.467286Z",
     "start_time": "2023-04-11T01:29:42.449335Z"
    }
   },
   "outputs": [],
   "source": [
    "def partial_match(game_name):\n",
    "    all_games=list(product.columns)\n",
    "    all_games.sort()\n",
    "    partials = []\n",
    "    for i in all_games:\n",
    "        if game_name.lower() in i.lower() == True:\n",
    "            partials.append(i)\n",
    "#     for i in game_names.get(game_name):\n",
    "#         partials.append(i[1])\n",
    "    return partials"
   ]
  },
  {
   "cell_type": "code",
   "execution_count": 93,
   "id": "1d21dd80",
   "metadata": {
    "ExecuteTime": {
     "end_time": "2023-04-11T01:29:40.607260Z",
     "start_time": "2023-04-11T01:29:40.586317Z"
    }
   },
   "outputs": [
    {
     "data": {
      "text/plain": [
       "[]"
      ]
     },
     "execution_count": 93,
     "metadata": {},
     "output_type": "execute_result"
    }
   ],
   "source": [
    "partial_match('The Game of Life (1960)')"
   ]
  },
  {
   "cell_type": "code",
   "execution_count": 84,
   "id": "36b9458c",
   "metadata": {
    "ExecuteTime": {
     "end_time": "2023-04-11T01:25:23.698369Z",
     "start_time": "2023-04-11T01:25:23.685403Z"
    }
   },
   "outputs": [
    {
     "data": {
      "text/plain": [
       "[(0.6956521739130435, 'The Game of Life (1960)')]"
      ]
     },
     "execution_count": 84,
     "metadata": {},
     "output_type": "execute_result"
    }
   ],
   "source": [
    "game_names.get('the game of life')"
   ]
  },
  {
   "cell_type": "code",
   "execution_count": 87,
   "id": "abf55ceb",
   "metadata": {
    "ExecuteTime": {
     "end_time": "2023-04-11T01:26:19.281774Z",
     "start_time": "2023-04-11T01:26:19.272798Z"
    }
   },
   "outputs": [
    {
     "data": {
      "text/plain": [
       "True"
      ]
     },
     "execution_count": 87,
     "metadata": {},
     "output_type": "execute_result"
    }
   ],
   "source": [
    "title_1 = 'The Game of Life (1960)'\n",
    "title_2 = 'life'\n",
    "\n",
    "title_2 in title_1.lower()"
   ]
  },
  {
   "cell_type": "code",
   "execution_count": 97,
   "id": "7e4255dd",
   "metadata": {
    "ExecuteTime": {
     "end_time": "2023-04-11T01:32:16.459668Z",
     "start_time": "2023-04-11T01:32:16.441717Z"
    }
   },
   "outputs": [],
   "source": [
    "game_names=list(product.columns)\n",
    "partials=[]\n",
    "for i in game_names:\n",
    "    if 'life' in i.lower() == True:\n",
    "        partials.append(i)"
   ]
  },
  {
   "cell_type": "code",
   "execution_count": 99,
   "id": "d711ae9c",
   "metadata": {
    "ExecuteTime": {
     "end_time": "2023-04-11T01:34:44.672442Z",
     "start_time": "2023-04-11T01:34:44.665461Z"
    }
   },
   "outputs": [
    {
     "ename": "SyntaxError",
     "evalue": "invalid syntax (<ipython-input-99-d66ad9c644ab>, line 1)",
     "output_type": "error",
     "traceback": [
      "\u001b[1;36m  File \u001b[1;32m\"<ipython-input-99-d66ad9c644ab>\"\u001b[1;36m, line \u001b[1;32m1\u001b[0m\n\u001b[1;33m    partials = [i if 'life' in i.lower for i in game_names]\u001b[0m\n\u001b[1;37m                                       ^\u001b[0m\n\u001b[1;31mSyntaxError\u001b[0m\u001b[1;31m:\u001b[0m invalid syntax\n"
     ]
    }
   ],
   "source": [
    "partials = [i if 'life' in i.lower for i in game_names]"
   ]
  },
  {
   "cell_type": "code",
   "execution_count": 116,
   "id": "cc29b69b",
   "metadata": {
    "ExecuteTime": {
     "end_time": "2023-04-11T01:47:00.517261Z",
     "start_time": "2023-04-11T01:47:00.502301Z"
    }
   },
   "outputs": [],
   "source": [
    "def partial_match(subs):\n",
    "    game_names = [item.lower() for item in list(product.columns)]\n",
    "    partials = [i for i in game_names if subs in i]\n",
    "    partials = [i.title() for i in partials]\n",
    "    partials = \"\\n\".join(partials)\n",
    "    print(partials)"
   ]
  },
  {
   "cell_type": "code",
   "execution_count": 117,
   "id": "af80a1c9",
   "metadata": {
    "ExecuteTime": {
     "end_time": "2023-04-11T01:47:02.103022Z",
     "start_time": "2023-04-11T01:47:02.098035Z"
    }
   },
   "outputs": [
    {
     "name": "stdout",
     "output_type": "stream",
     "text": [
      "Lifeboats (1993)\n",
      "Wildlife Safari (1994)\n",
      "The Game Of Life (1960)\n",
      "Wildlife (2002)\n",
      "Lifeboat (2002)\n",
      "That'S Life! (2005)\n",
      "Valley Of The Kings: Afterlife (2015)\n"
     ]
    }
   ],
   "source": [
    "partial_match('life')"
   ]
  },
  {
   "cell_type": "code",
   "execution_count": null,
   "id": "811556a2",
   "metadata": {},
   "outputs": [],
   "source": []
  }
 ],
 "metadata": {
  "kernelspec": {
   "display_name": "Python 3",
   "language": "python",
   "name": "python3"
  },
  "language_info": {
   "codemirror_mode": {
    "name": "ipython",
    "version": 3
   },
   "file_extension": ".py",
   "mimetype": "text/x-python",
   "name": "python",
   "nbconvert_exporter": "python",
   "pygments_lexer": "ipython3",
   "version": "3.8.8"
  }
 },
 "nbformat": 4,
 "nbformat_minor": 5
}
